{
 "cells": [
  {
   "cell_type": "markdown",
   "id": "cabc03e0",
   "metadata": {},
   "source": [
    "# 1.Write a Python Program to Find the Factorial of a Number?"
   ]
  },
  {
   "cell_type": "code",
   "execution_count": 7,
   "id": "766c253a",
   "metadata": {},
   "outputs": [
    {
     "name": "stdout",
     "output_type": "stream",
     "text": [
      "Enter a number3\n",
      "the factorial of 3 is 6\n"
     ]
    }
   ],
   "source": [
    "num=int(input(\"Enter a number\"))\n",
    "\n",
    "factorial=1\n",
    "\n",
    "if num<0:\n",
    "    print(\"sorry, factorial does not exists for negative nmber\")\n",
    "    \n",
    "elif num==0:\n",
    "    print(\"Factorial of 0 is 1\")\n",
    "    \n",
    "else:\n",
    "    for i in range(1,num+1):\n",
    "        factorial=factorial*i\n",
    "    print(\"the factorial of\",num, \"is\",factorial)"
   ]
  },
  {
   "cell_type": "markdown",
   "id": "9cf57c9c",
   "metadata": {},
   "source": [
    "# 2.\tWrite a Python Program to Display the multiplication Table?"
   ]
  },
  {
   "cell_type": "code",
   "execution_count": 2,
   "id": "5a9ac8ce",
   "metadata": {},
   "outputs": [
    {
     "name": "stdout",
     "output_type": "stream",
     "text": [
      "Enter the number3\n",
      "3 x 1 = 3\n",
      "3 x 2 = 6\n",
      "3 x 3 = 9\n",
      "3 x 4 = 12\n",
      "3 x 5 = 15\n",
      "3 x 6 = 18\n",
      "3 x 7 = 21\n",
      "3 x 8 = 24\n",
      "3 x 9 = 27\n",
      "3 x 10 = 30\n"
     ]
    }
   ],
   "source": [
    "num=int(input(\"Enter the number\"))\n",
    "for i in range(1,11):\n",
    "    print(num,'x',i,\"=\",num*i)"
   ]
  },
  {
   "cell_type": "markdown",
   "id": "250b17de",
   "metadata": {},
   "source": [
    "# 3.\tWrite a Python Program to Print the Fibonacci sequence?"
   ]
  },
  {
   "cell_type": "code",
   "execution_count": 5,
   "id": "7bc4b567",
   "metadata": {},
   "outputs": [
    {
     "name": "stdout",
     "output_type": "stream",
     "text": [
      "enter the nmber of terms10\n",
      "Fiboacciseqence:\n",
      "0\n",
      "1\n",
      "1\n",
      "2\n",
      "3\n",
      "5\n",
      "8\n",
      "13\n",
      "21\n",
      "34\n"
     ]
    }
   ],
   "source": [
    "total_terms=int(input(\"enter the nmber of terms\"))\n",
    "\n",
    "n1,n2=0,1\n",
    "count=0\n",
    "\n",
    "if total_terms<=0:\n",
    "    print(\"please enter positive integer\")\n",
    "    \n",
    "elif total_terms==1:\n",
    "    print(\"Fibonaccisequence upto\",total_terms,\";\")\n",
    "    print(n1)\n",
    "    \n",
    "else:\n",
    "    print(\"Fiboacciseqence:\")\n",
    "    while count<total_terms:\n",
    "        print(n1)\n",
    "        nth=n1+n2\n",
    "        #update values\n",
    "        n1=n2\n",
    "        n2=nth\n",
    "        count+=1"
   ]
  },
  {
   "cell_type": "markdown",
   "id": "425a5961",
   "metadata": {},
   "source": [
    "# 4.\tWrite a Python Program to Check Armstrong Number?"
   ]
  },
  {
   "cell_type": "code",
   "execution_count": 8,
   "id": "02ff09d7",
   "metadata": {},
   "outputs": [
    {
     "name": "stdout",
     "output_type": "stream",
     "text": [
      "enter a nmber:10\n",
      "10 is not an armstrong number\n"
     ]
    }
   ],
   "source": [
    "num=int(input(\"enter a nmber:\"))\n",
    "\n",
    "sum=0\n",
    "\n",
    "temp=num\n",
    "while temp>0:\n",
    "    digit=temp%10\n",
    "    sum+=digit**3\n",
    "    temp//=10\n",
    "    \n",
    "    \n",
    "if num==sum:\n",
    "    print(num,\"is an armstrong number\")\n",
    "else:\n",
    "    print(num,\"is not an armstrong number\")"
   ]
  },
  {
   "cell_type": "markdown",
   "id": "c7cce937",
   "metadata": {},
   "source": [
    "# 5.\tWrite a Python Program to Find Armstrong Number in an Interval?"
   ]
  },
  {
   "cell_type": "code",
   "execution_count": 18,
   "id": "b62c298e",
   "metadata": {},
   "outputs": [
    {
     "name": "stdout",
     "output_type": "stream",
     "text": [
      "enter the lower limit1\n",
      "enter the upper limit10000\n",
      "1\n",
      "2\n",
      "3\n",
      "4\n",
      "5\n",
      "6\n",
      "7\n",
      "8\n",
      "9\n",
      "153\n",
      "370\n",
      "371\n",
      "407\n",
      "1634\n",
      "8208\n",
      "9474\n"
     ]
    }
   ],
   "source": [
    "lower=int(input(\"enter the lower limit\"))\n",
    "upper=int(input(\"enter the upper limit\"))\n",
    "for num in range(lower,upper+1):\n",
    "    \n",
    "    order=len(str(num))\n",
    "    \n",
    "    sum=0\n",
    "    \n",
    "    temp=num\n",
    "    while temp>0:\n",
    "        digit=temp%10\n",
    "        sum+=digit**order\n",
    "        temp//=10\n",
    "    if num==sum:\n",
    "        print(num)"
   ]
  },
  {
   "cell_type": "markdown",
   "id": "0506831d",
   "metadata": {},
   "source": [
    "# 6.\tWrite a Python Program to Find the Sum of Natural Numbers?"
   ]
  },
  {
   "cell_type": "code",
   "execution_count": 23,
   "id": "d4d9c63a",
   "metadata": {},
   "outputs": [
    {
     "name": "stdout",
     "output_type": "stream",
     "text": [
      "Enter the number4\n",
      "The sum is: 10\n"
     ]
    }
   ],
   "source": [
    "num=int(input(\"Enter the number\"))\n",
    "if num<0:\n",
    "    print(\"please enter positive number\")\n",
    "    \n",
    "else:\n",
    "    sum=0\n",
    "    while(num>0):\n",
    "        sum+=num\n",
    "        num-=1\n",
    "    print(\"The sum is:\",sum)"
   ]
  },
  {
   "cell_type": "code",
   "execution_count": null,
   "id": "86f78b06",
   "metadata": {},
   "outputs": [],
   "source": []
  }
 ],
 "metadata": {
  "kernelspec": {
   "display_name": "Python 3 (ipykernel)",
   "language": "python",
   "name": "python3"
  },
  "language_info": {
   "codemirror_mode": {
    "name": "ipython",
    "version": 3
   },
   "file_extension": ".py",
   "mimetype": "text/x-python",
   "name": "python",
   "nbconvert_exporter": "python",
   "pygments_lexer": "ipython3",
   "version": "3.9.7"
  }
 },
 "nbformat": 4,
 "nbformat_minor": 5
}
