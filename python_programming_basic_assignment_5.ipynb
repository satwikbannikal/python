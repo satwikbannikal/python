{
 "cells": [
  {
   "cell_type": "markdown",
   "id": "42b8b3d6",
   "metadata": {},
   "source": [
    "# 1.\tWrite a Python Program to Find LCM?"
   ]
  },
  {
   "cell_type": "code",
   "execution_count": 3,
   "id": "65bf46b2",
   "metadata": {},
   "outputs": [
    {
     "name": "stdout",
     "output_type": "stream",
     "text": [
      "3\n",
      "2\n",
      "The L.C.M. is 6\n"
     ]
    }
   ],
   "source": [
    "def compute_lcm(x,y):\n",
    "    if x>y:\n",
    "        greater=x\n",
    "    else:\n",
    "        greater=y\n",
    "        \n",
    "    while(True):\n",
    "        if((greater%x==0) and (greater%y==0)):\n",
    "            lcm=greater\n",
    "            break\n",
    "        greater+=1\n",
    "    return lcm\n",
    "\n",
    "num1=int(input())\n",
    "num2=int(input())\n",
    "\n",
    "print(\"The L.C.M. is\",compute_lcm(num1,num2))"
   ]
  },
  {
   "cell_type": "markdown",
   "id": "664cfa0b",
   "metadata": {},
   "source": [
    "# 2.\tWrite a Python Program to Find HCF?"
   ]
  },
  {
   "cell_type": "code",
   "execution_count": 10,
   "id": "0582b1f0",
   "metadata": {},
   "outputs": [
    {
     "name": "stdout",
     "output_type": "stream",
     "text": [
      "4\n",
      "8\n",
      "The H.C.F. is 4\n"
     ]
    }
   ],
   "source": [
    "def compute_hcf(x,y):\n",
    "    if x>y:\n",
    "        smaller=y\n",
    "        \n",
    "    else:\n",
    "        smaller=x\n",
    "    for i in range(1,smaller+1):\n",
    "        if((x%i==0) and (y%i==0)):\n",
    "            hcf=i\n",
    "    return hcf\n",
    "num1=int(input())\n",
    "num2=int(input())\n",
    "\n",
    "print(\"The H.C.F. is\",compute_hcf(num1,num2))"
   ]
  },
  {
   "cell_type": "code",
   "execution_count": null,
   "id": "2ef13c77",
   "metadata": {},
   "outputs": [],
   "source": []
  },
  {
   "cell_type": "markdown",
   "id": "418e2e22",
   "metadata": {},
   "source": [
    "# 3.\tWrite a Python Program to Convert Decimal to Binary, Octal and Hexadecimal?"
   ]
  },
  {
   "cell_type": "code",
   "execution_count": 2,
   "id": "448ff561",
   "metadata": {},
   "outputs": [
    {
     "name": "stdout",
     "output_type": "stream",
     "text": [
      "2\n",
      "The decimal value of 2 is\n",
      "0b10 in binary\n",
      "0o2 is octal\n",
      "0x2 is hedadecimal\n"
     ]
    }
   ],
   "source": [
    "decimal=int(input())\n",
    "print(\"The decimal value of\",decimal,\"is\")\n",
    "print(bin(decimal),\"in binary\")\n",
    "print(oct(decimal),\"is octal\")\n",
    "print(hex(decimal),\"is hedadecimal\")"
   ]
  },
  {
   "cell_type": "markdown",
   "id": "bef807b8",
   "metadata": {},
   "source": [
    "# 4.\tWrite a Python Program To Find ASCII value of a character?"
   ]
  },
  {
   "cell_type": "code",
   "execution_count": 10,
   "id": "f5307d2e",
   "metadata": {},
   "outputs": [
    {
     "name": "stdout",
     "output_type": "stream",
     "text": [
      "The ASCII value of'j'is 106\n"
     ]
    }
   ],
   "source": [
    "c=\"j\"\n",
    "print(\"The ASCII value of'\"+c+\"'is\",ord(c))"
   ]
  },
  {
   "cell_type": "markdown",
   "id": "35461729",
   "metadata": {},
   "source": [
    "# 5.\tWrite a Python Program to Make a Simple Calculator with 4 basic mathematical operations?"
   ]
  },
  {
   "cell_type": "code",
   "execution_count": null,
   "id": "db9a1436",
   "metadata": {},
   "outputs": [
    {
     "name": "stdout",
     "output_type": "stream",
     "text": [
      "select operstion.\n",
      "1.add\n",
      "2.sbstract\n",
      "3.multiply\n",
      "4.divide\n",
      "Enter choice(1/2/3/4):4\n",
      "Enter the first number:4\n",
      "enter the second number4\n",
      "4.0 / 4.0 = 1.0\n",
      "lets do next calculation?(yes/no):yes\n",
      "INvalid Input\n",
      "Enter choice(1/2/3/4):3\n",
      "Enter the first number:5\n",
      "enter the second number5\n",
      "5.0 * 5.0 = 25.0\n"
     ]
    }
   ],
   "source": [
    "def add(x,y):\n",
    "    return x+y\n",
    "\n",
    "def sub(x,y):\n",
    "    return x-y\n",
    "\n",
    "def multiply(x,y):\n",
    "    return x*y\n",
    "\n",
    "def divide(x,y):\n",
    "    return x/y\n",
    "\n",
    "print(\"select operstion.\")\n",
    "print(\"1.add\")\n",
    "print(\"2.sbstract\")\n",
    "print(\"3.multiply\")\n",
    "print(\"4.divide\")\n",
    "\n",
    "while True:\n",
    "    choice=input(\"Enter choice(1/2/3/4):\")\n",
    "    if choice in ('1','2','3','4'):\n",
    "        num1=float(input(\"Enter the first number:\"))\n",
    "        num2=float(input(\"enter the second number\"))\n",
    "                         \n",
    "        if choice=='1':\n",
    "            print(num1,\"+\",num2,\"=\",add(num1,num2))\n",
    "                         \n",
    "        elif choice=='2':\n",
    "            print(num1,\"-\",num2,\"=\",sub(num1,num2))\n",
    "                         \n",
    "        elif choice=='3':\n",
    "            print(num1,\"*\",num2,\"=\",multiply(num1,num2))\n",
    "                         \n",
    "        elif choice=='4':\n",
    "            print(num1,\"/\",num2,\"=\",divide(num1,num2))\n",
    "                         \n",
    "        next_calculation=input(\"lets do next calculation?(yes/no):\")\n",
    "        if next_calculation==\"no\":\n",
    "            break\n",
    "        \n",
    "        else:\n",
    "            print(\"INvalid Input\")\n",
    "                         "
   ]
  },
  {
   "cell_type": "code",
   "execution_count": null,
   "id": "6dd8ddad",
   "metadata": {},
   "outputs": [],
   "source": []
  }
 ],
 "metadata": {
  "kernelspec": {
   "display_name": "Python 3 (ipykernel)",
   "language": "python",
   "name": "python3"
  },
  "language_info": {
   "codemirror_mode": {
    "name": "ipython",
    "version": 3
   },
   "file_extension": ".py",
   "mimetype": "text/x-python",
   "name": "python",
   "nbconvert_exporter": "python",
   "pygments_lexer": "ipython3",
   "version": "3.9.7"
  }
 },
 "nbformat": 4,
 "nbformat_minor": 5
}
