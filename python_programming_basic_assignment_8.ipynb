{
 "cells": [
  {
   "cell_type": "markdown",
   "id": "e0e0a2d4",
   "metadata": {},
   "source": [
    "# 1.\tWrite a Python Program to Add Two Matrices?"
   ]
  },
  {
   "cell_type": "code",
   "execution_count": 1,
   "id": "7289dcc6",
   "metadata": {},
   "outputs": [
    {
     "name": "stdout",
     "output_type": "stream",
     "text": [
      "The Sum of two matrix [[1, 2, 4], [4, 5, 6], [7, 8, 9]]  and [[2, 3, 4], [5, 6, 7], [8, 9, 1]]  is \n",
      "[[3, 5, 8], [9, 11, 13], [15, 17, 10]] \n"
     ]
    }
   ],
   "source": [
    "mat1 = [[1,2,4],\n",
    "        [4,5,6],\n",
    "        [7,8,9]]\n",
    "\n",
    "mat2 = [[2,3,4],\n",
    "        [5,6,7],\n",
    "        [8,9,1]]\n",
    "\n",
    "sumMat = [[0,0,0],\n",
    "          [0,0,0],\n",
    "          [0,0,0]]\n",
    "\n",
    "sumMat = [[mat1[i][j] + mat2[i][j] for j in range(len(mat1[0]))] for i in range(len(mat1))]\n",
    "print(\"The Sum of two matrix {}  and {}  is \\n{} \".format(mat1,mat2,sumMat))"
   ]
  },
  {
   "cell_type": "markdown",
   "id": "f9b2c455",
   "metadata": {},
   "source": [
    "# 2.\tWrite a Python Program to Multiply Two Matrices?"
   ]
  },
  {
   "cell_type": "code",
   "execution_count": 2,
   "id": "e7d55647",
   "metadata": {},
   "outputs": [
    {
     "name": "stdout",
     "output_type": "stream",
     "text": [
      "The product of two matrix \n",
      "\n",
      "[[1 2 4]\n",
      " [4 5 6]\n",
      " [7 8 9]]  and \n",
      "\n",
      "[[2 3 4]\n",
      " [5 6 7]\n",
      " [8 9 1]]  is \n",
      "\n",
      "[[ 44  51  22]\n",
      " [ 81  96  57]\n",
      " [126 150  93]] \n"
     ]
    }
   ],
   "source": [
    "import numpy as np\n",
    "\n",
    "mat1 = np.array([[1,2,4],\n",
    "        [4,5,6],\n",
    "        [7,8,9]])\n",
    "mat2 = np.array([[2,3,4],\n",
    "        [5,6,7],\n",
    "        [8,9,1]])\n",
    "\n",
    "sumMat = np.dot(mat1,mat2)\n",
    "print(\"The product of two matrix \\n\\n{}  and \\n\\n{}  is \\n\\n{} \".format(mat1,mat2,sumMat))"
   ]
  },
  {
   "cell_type": "markdown",
   "id": "b2dd8019",
   "metadata": {},
   "source": [
    "# 3.\tWrite a Python Program to Transpose a Matrix?"
   ]
  },
  {
   "cell_type": "code",
   "execution_count": 4,
   "id": "519b9148",
   "metadata": {},
   "outputs": [
    {
     "name": "stdout",
     "output_type": "stream",
     "text": [
      "Enter N for N x N matrix: 2\n",
      "Enter the element :\n",
      "2\n",
      "2\n",
      "3\n",
      "4\n",
      "Display Array M1 In Matrix Form\n",
      "2 2 \n",
      "3 4 \n",
      "Transposed Matrix\n",
      "[2, 3]\n",
      "[2, 4]\n"
     ]
    }
   ],
   "source": [
    "def initializeMatrix(n,v=0):\n",
    "    M=[]             \n",
    "    for i in range(n):\n",
    "        #stor row\n",
    "        row =[]\n",
    "        for j in range(n):\n",
    "            row.append(v)\n",
    "        M.append(row)\n",
    "    return(M)\n",
    "\n",
    "def createMatrix(n):\n",
    "    \n",
    "    M=[]             \n",
    "    print(\"Enter the element :\")\n",
    "    for i in range(n):\n",
    "        #stor row\n",
    "        row =[]\n",
    "        for j in range(n):\n",
    "            row.append(int(input()))\n",
    "        M.append(row)\n",
    "    return(M)\n",
    "\n",
    "def printMatrix(M,n):\n",
    "    for i in range(n):\n",
    "        for j in range(n):\n",
    "            print(M[i][j], end=\" \")\n",
    "        print() \n",
    "        \n",
    "def transposeMatrix(M,n,result):\n",
    "    for i in range(n):\n",
    "        for j in range(n):\n",
    "            result[i][j]= M[j][i]\n",
    "    return result\n",
    "\n",
    "n=int(input(\"Enter N for N x N matrix: \"))       \n",
    "M1 = createMatrix(n)\n",
    "#Display the 2D array\n",
    "print(\"Display Array M1 In Matrix Form\")\n",
    "printMatrix(M1,n)\n",
    "\n",
    "result = initializeMatrix(n)\n",
    "result = transposeMatrix(M1,n,result)\n",
    "print(\"Transposed Matrix\")\n",
    "for r in result:\n",
    "    print(r)"
   ]
  },
  {
   "cell_type": "markdown",
   "id": "3e8fd31e",
   "metadata": {},
   "source": [
    "# 4.\tWrite a Python Program to Sort Words in Alphabetic Order?"
   ]
  },
  {
   "cell_type": "code",
   "execution_count": 7,
   "id": "8d558958",
   "metadata": {},
   "outputs": [
    {
     "name": "stdout",
     "output_type": "stream",
     "text": [
      "Enter some stringsatwik started leraning python\n",
      "leraning\n",
      "python\n",
      "satwik\n",
      "started\n"
     ]
    }
   ],
   "source": [
    "str = input(\"Enter some string\")\n",
    "\n",
    "words = str.split()\n",
    "words.sort()\n",
    "for word in words:\n",
    "    print(word)"
   ]
  },
  {
   "cell_type": "markdown",
   "id": "2be082de",
   "metadata": {},
   "source": [
    "# 5.\tWrite a Python Program to Remove Punctuation From a String?"
   ]
  },
  {
   "cell_type": "code",
   "execution_count": 8,
   "id": "d3cb36e4",
   "metadata": {},
   "outputs": [
    {
     "name": "stdout",
     "output_type": "stream",
     "text": [
      "Enter some string with panctuationsHello how are you !#*\n",
      "Hello how are you \n"
     ]
    }
   ],
   "source": [
    "punctuations = '''!()-[]{};:'\"\\,<>./?@#$%^&*_~'''\n",
    "\n",
    "str = input(\"Enter some string with panctuations\")\n",
    "\n",
    "# remove punctuation from the string\n",
    "no_punct = \"\"\n",
    "for char in str:\n",
    "    if char not in punctuations:\n",
    "        no_punct = no_punct + char\n",
    "\n",
    "# display the unpunctuated string\n",
    "print(no_punct)"
   ]
  },
  {
   "cell_type": "code",
   "execution_count": null,
   "id": "a15168c6",
   "metadata": {},
   "outputs": [],
   "source": []
  }
 ],
 "metadata": {
  "kernelspec": {
   "display_name": "Python 3 (ipykernel)",
   "language": "python",
   "name": "python3"
  },
  "language_info": {
   "codemirror_mode": {
    "name": "ipython",
    "version": 3
   },
   "file_extension": ".py",
   "mimetype": "text/x-python",
   "name": "python",
   "nbconvert_exporter": "python",
   "pygments_lexer": "ipython3",
   "version": "3.9.7"
  }
 },
 "nbformat": 4,
 "nbformat_minor": 5
}
