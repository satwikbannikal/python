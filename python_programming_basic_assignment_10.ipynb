{
 "cells": [
  {
   "cell_type": "markdown",
   "id": "bb0c840a",
   "metadata": {},
   "source": [
    "# 1.\tWrite a Python program to find sum of elements in list?"
   ]
  },
  {
   "cell_type": "code",
   "execution_count": 2,
   "id": "c4d39e88",
   "metadata": {},
   "outputs": [
    {
     "name": "stdout",
     "output_type": "stream",
     "text": [
      "Enter the lenth of your list : 6\n",
      "1\n",
      "4\n",
      "5\n",
      "6\n",
      "8\n",
      "9\n",
      "The List is  [1, 4, 5, 6, 8, 9]\n",
      "Sum of elements in List 33\n"
     ]
    }
   ],
   "source": [
    "n = int(input(\"Enter the lenth of your list : \"))\n",
    "lst = []\n",
    "\n",
    "for i in range(n):\n",
    "    lst.append(int(input()))\n",
    "print(\"The List is \",lst)\n",
    "print(\"Sum of elements in List\",sum(lst))"
   ]
  },
  {
   "cell_type": "markdown",
   "id": "122b8b0d",
   "metadata": {},
   "source": [
    "# 2.\tWrite a Python program to  Multiply all numbers in the list?"
   ]
  },
  {
   "cell_type": "code",
   "execution_count": 3,
   "id": "69b969c9",
   "metadata": {},
   "outputs": [
    {
     "name": "stdout",
     "output_type": "stream",
     "text": [
      "Enter the lenth of your list : 4\n",
      "1\n",
      "2\n",
      "3\n",
      "4\n",
      "The List is  [1, 2, 3, 4]\n",
      "Product of elements in List is : 24\n"
     ]
    }
   ],
   "source": [
    "n = int(input(\"Enter the lenth of your list : \"))\n",
    "lst = []\n",
    "\n",
    "for i in range(n):\n",
    "    lst.append(int(input()))\n",
    "print(\"The List is \",lst)\n",
    "product = 1\n",
    "for element in lst:\n",
    "    product = product*element\n",
    "print(\"Product of elements in List is :\",product)"
   ]
  },
  {
   "cell_type": "markdown",
   "id": "b439cefd",
   "metadata": {},
   "source": [
    "# 3.\tWrite a Python program to find smallest number in a list?"
   ]
  },
  {
   "cell_type": "code",
   "execution_count": 4,
   "id": "144a0027",
   "metadata": {},
   "outputs": [
    {
     "name": "stdout",
     "output_type": "stream",
     "text": [
      "Enter the lenth of your list : 5\n",
      "3\n",
      "4\n",
      "6\n",
      "72\n",
      "2\n",
      "The List is  [3, 4, 6, 72, 2]\n",
      "The Smallest element in the list is : 2\n"
     ]
    }
   ],
   "source": [
    "n = int(input(\"Enter the lenth of your list : \"))\n",
    "lst = []\n",
    "\n",
    "for i in range(n):\n",
    "    lst.append(int(input()))\n",
    "print(\"The List is \",lst)\n",
    "print(\"The Smallest element in the list is :\",min(lst))"
   ]
  },
  {
   "cell_type": "markdown",
   "id": "cebb82e4",
   "metadata": {},
   "source": [
    "# 4.\tWrite a Python program to find largest number in a list?"
   ]
  },
  {
   "cell_type": "code",
   "execution_count": 5,
   "id": "15cb4506",
   "metadata": {},
   "outputs": [
    {
     "name": "stdout",
     "output_type": "stream",
     "text": [
      "Enter the lenth of your list : 5\n",
      "3\n",
      "4\n",
      "5\n",
      "6\n",
      "10\n",
      "The List is  [3, 4, 5, 6, 10]\n",
      "The Largest element in the list is : 10\n"
     ]
    }
   ],
   "source": [
    "n = int(input(\"Enter the lenth of your list : \"))\n",
    "lst = []\n",
    "\n",
    "for i in range(n):\n",
    "    lst.append(int(input()))\n",
    "print(\"The List is \",lst)\n",
    "print(\"The Largest element in the list is :\",max(lst))"
   ]
  },
  {
   "cell_type": "markdown",
   "id": "0188acd7",
   "metadata": {},
   "source": [
    "# 5.\tWrite a Python program to find second largest number in a list?"
   ]
  },
  {
   "cell_type": "code",
   "execution_count": 7,
   "id": "83496cd7",
   "metadata": {},
   "outputs": [
    {
     "name": "stdout",
     "output_type": "stream",
     "text": [
      "Enter the lenth of your list : 4\n",
      "5\n",
      "6\n",
      "4\n",
      "5\n",
      "The List is  [5, 6, 4, 5]\n",
      "The sorted list is  [4, 5, 5, 6]\n",
      "The second largest element in the list is  5\n"
     ]
    }
   ],
   "source": [
    "n = int(input(\"Enter the lenth of your list : \"))\n",
    "lst = []\n",
    "\n",
    "for i in range(n):\n",
    "    lst.append(int(input()))\n",
    "print(\"The List is \",lst)\n",
    "lst.sort()\n",
    "print(\"The sorted list is \",lst)\n",
    "print(\"The second largest element in the list is \",lst[-2])"
   ]
  },
  {
   "cell_type": "markdown",
   "id": "744b4d76",
   "metadata": {},
   "source": [
    "# 6.\tWrite a Python program to find N largest elements from a list?"
   ]
  },
  {
   "cell_type": "code",
   "execution_count": 9,
   "id": "368a05ef",
   "metadata": {},
   "outputs": [
    {
     "name": "stdout",
     "output_type": "stream",
     "text": [
      "Enter the lenth of your list : 7\n",
      "4\n",
      "5\n",
      "65\n",
      "45\n",
      "3\n",
      "1\n",
      "100\n",
      "The List is  [4, 5, 65, 45, 3, 1, 100]\n",
      "The sorted list is  [1, 3, 4, 5, 45, 65, 100]\n",
      "Enter how many largest number you want to see in from the list :4\n",
      "4 largest elements from the list are : [5, 45, 65, 100]\n"
     ]
    }
   ],
   "source": [
    "n = int(input(\"Enter the lenth of your list : \"))\n",
    "lst = []\n",
    "\n",
    "for i in range(n):\n",
    "    lst.append(int(input()))\n",
    "print(\"The List is \",lst)\n",
    "lst.sort()\n",
    "print(\"The sorted list is \",lst)\n",
    "nlargest = int(input(\"Enter how many largest number you want to see in from the list :\"))\n",
    "\n",
    "if n < nlargest :\n",
    "    print(\"enterted value is larger then that list length\")\n",
    "else:\n",
    "    print(nlargest,\"largest elements from the list are :\",lst[(n-nlargest):])"
   ]
  },
  {
   "cell_type": "markdown",
   "id": "c152327e",
   "metadata": {},
   "source": [
    "# 7.\tWrite a Python program to print even numbers in a list?"
   ]
  },
  {
   "cell_type": "code",
   "execution_count": 10,
   "id": "0a17fd90",
   "metadata": {},
   "outputs": [
    {
     "name": "stdout",
     "output_type": "stream",
     "text": [
      "Enter the lenth of your list : 6\n",
      "2\n",
      "3\n",
      "4\n",
      "5\n",
      "6\n",
      "7\n",
      "The List is  [2, 3, 4, 5, 6, 7]\n",
      "The even numbers in the list are : [2, 4, 6]\n"
     ]
    }
   ],
   "source": [
    "n = int(input(\"Enter the lenth of your list : \"))\n",
    "lst = []\n",
    "\n",
    "for i in range(n):\n",
    "    lst.append(int(input()))\n",
    "print(\"The List is \",lst)\n",
    "evenlist =[]\n",
    "\n",
    "for i in lst:\n",
    "    if i % 2 == 0:\n",
    "        evenlist.append(i)\n",
    "print(\"The even numbers in the list are :\",evenlist)"
   ]
  },
  {
   "cell_type": "markdown",
   "id": "547f0f16",
   "metadata": {},
   "source": [
    "# 8.\tWrite a Python program to print odd numbers in a List?"
   ]
  },
  {
   "cell_type": "code",
   "execution_count": 11,
   "id": "b3f99db8",
   "metadata": {},
   "outputs": [
    {
     "name": "stdout",
     "output_type": "stream",
     "text": [
      "Enter the lenth of your list : 5\n",
      "1\n",
      "2\n",
      "3\n",
      "4\n",
      "5\n",
      "The List is  [1, 2, 3, 4, 5]\n",
      "The even numbers in the list are : [1, 3, 5]\n"
     ]
    }
   ],
   "source": [
    "n = int(input(\"Enter the lenth of your list : \"))\n",
    "lst = []\n",
    "\n",
    "for i in range(n):\n",
    "    lst.append(int(input()))\n",
    "print(\"The List is \",lst)\n",
    "oddlist =[]\n",
    "\n",
    "for i in lst:\n",
    "    if i % 2 != 0:\n",
    "        oddlist.append(i)\n",
    "print(\"The even numbers in the list are :\",oddlist)"
   ]
  },
  {
   "cell_type": "markdown",
   "id": "10b3326e",
   "metadata": {},
   "source": [
    "# 9.\tWrite a Python program to Remove empty List from List?"
   ]
  },
  {
   "cell_type": "code",
   "execution_count": 12,
   "id": "2239dbfd",
   "metadata": {},
   "outputs": [
    {
     "name": "stdout",
     "output_type": "stream",
     "text": [
      "The List : [2, [], 4, 5, [], 6, 8, [], 3]\n",
      "The list after removing empty lists\n",
      "[2, 4, 5, 6, 8, 3]\n"
     ]
    }
   ],
   "source": [
    "lst = [2,[],4,5,[],6,8,[],3]\n",
    "print(\"The List :\",lst)\n",
    "removedlist = [ele for ele in lst if ele != []]\n",
    "print(\"The list after removing empty lists\")\n",
    "print(removedlist)"
   ]
  },
  {
   "cell_type": "markdown",
   "id": "2a99d265",
   "metadata": {},
   "source": [
    "# 10.\tWrite a Python program to Cloning or Copying a list?"
   ]
  },
  {
   "cell_type": "code",
   "execution_count": 13,
   "id": "68c7620d",
   "metadata": {},
   "outputs": [
    {
     "name": "stdout",
     "output_type": "stream",
     "text": [
      "Enter the lenth of your list : 4\n",
      "2\n",
      "3\n",
      "4\n",
      "5\n",
      "The List is  [2, 3, 4, 5]\n",
      "The cloned/copied list :\n",
      "Cloning By list slicing lst[:]  [2, 3, 4, 5]\n"
     ]
    }
   ],
   "source": [
    "n = int(input(\"Enter the lenth of your list : \"))\n",
    "lst = []\n",
    "\n",
    "for i in range(n):\n",
    "    lst.append(int(input()))\n",
    "print(\"The List is \",lst)\n",
    "\n",
    "print(\"The cloned/copied list :\")\n",
    "\n",
    "lstcopy = lst[:]\n",
    "print(\"Cloning By list slicing lst[:] \",lstcopy)"
   ]
  },
  {
   "cell_type": "markdown",
   "id": "71b9fc7e",
   "metadata": {},
   "source": [
    "# 11.\tWrite a Python program to Count occurrences of an element in a list?"
   ]
  },
  {
   "cell_type": "code",
   "execution_count": 14,
   "id": "1ea8aa70",
   "metadata": {},
   "outputs": [
    {
     "name": "stdout",
     "output_type": "stream",
     "text": [
      "Enter the lenth of your list : 6\n",
      "1\n",
      "2\n",
      "33\n",
      "44\n",
      "44\n",
      "33\n",
      "The List is  [1, 2, 33, 44, 44, 33]\n",
      "Enter the element to find its occurance : 33\n",
      "33 has occured 2 times in the list \n"
     ]
    }
   ],
   "source": [
    "n = int(input(\"Enter the lenth of your list : \"))\n",
    "lst = []\n",
    "\n",
    "for i in range(n):\n",
    "    lst.append(int(input()))\n",
    "print(\"The List is \",lst)\n",
    "element= int(input(\"Enter the element to find its occurance : \"))\n",
    "print(element,\"has occured {} times in the list \".format(lst.count(element)))"
   ]
  },
  {
   "cell_type": "code",
   "execution_count": null,
   "id": "81d3fd15",
   "metadata": {},
   "outputs": [],
   "source": []
  }
 ],
 "metadata": {
  "kernelspec": {
   "display_name": "Python 3 (ipykernel)",
   "language": "python",
   "name": "python3"
  },
  "language_info": {
   "codemirror_mode": {
    "name": "ipython",
    "version": 3
   },
   "file_extension": ".py",
   "mimetype": "text/x-python",
   "name": "python",
   "nbconvert_exporter": "python",
   "pygments_lexer": "ipython3",
   "version": "3.9.7"
  }
 },
 "nbformat": 4,
 "nbformat_minor": 5
}
