{
 "cells": [
  {
   "cell_type": "markdown",
   "id": "1e4fcaff",
   "metadata": {},
   "source": [
    "# 1. Create an assert statement that throws an AssertionError if the variable spam is a negative integer."
   ]
  },
  {
   "cell_type": "code",
   "execution_count": null,
   "id": "ac14126e",
   "metadata": {},
   "outputs": [],
   "source": [
    "assert spam >= 10, 'The spam variable is less than 10.'"
   ]
  },
  {
   "cell_type": "markdown",
   "id": "69dc16de",
   "metadata": {},
   "source": [
    "# 2. Write an assert statement that triggers an AssertionError if the variables eggs and bacon contain strings that are the same as each other, even if their cases are different (that is, 'hello' and 'hello' are considered the same, and 'goodbye' and 'GOODbye' are also considered the same)."
   ]
  },
  {
   "cell_type": "code",
   "execution_count": null,
   "id": "33f561f5",
   "metadata": {},
   "outputs": [],
   "source": [
    "assert(eggs.lower() != bacon.lower(), 'The eggs and bacon variables are the same!')"
   ]
  },
  {
   "cell_type": "markdown",
   "id": "68c0b770",
   "metadata": {},
   "source": [
    "# 3. Create an assert statement that throws an AssertionError every time."
   ]
  },
  {
   "cell_type": "code",
   "execution_count": null,
   "id": "5983f4d8",
   "metadata": {},
   "outputs": [],
   "source": [
    "assert False, 'Write an assert statement that always triggers an AssertionError.'"
   ]
  },
  {
   "cell_type": "markdown",
   "id": "72e9497b",
   "metadata": {},
   "source": [
    "# 4. What are the two lines that must be present in your software in order to call logging.debug()?"
   ]
  },
  {
   "cell_type": "code",
   "execution_count": null,
   "id": "72fa237e",
   "metadata": {},
   "outputs": [],
   "source": [
    "import logging \n",
    "logging.basicConfig(level=logging.DEBUG, format=' %(asctime)s - %(levelname)s - %(message)s')"
   ]
  },
  {
   "cell_type": "markdown",
   "id": "1c237db1",
   "metadata": {},
   "source": [
    "# What are the two lines that your program must have in order to have logging.debug() send a logging message to a file named programLog.txt?"
   ]
  },
  {
   "cell_type": "code",
   "execution_count": null,
   "id": "30ca3678",
   "metadata": {},
   "outputs": [],
   "source": [
    "import logging \n",
    "logging.basicConfig(filename='programLog.txt', level=logging.DEBUG, format=' %(asctime)s - %(levelname)s - %(message)s')"
   ]
  },
  {
   "cell_type": "markdown",
   "id": "c26de918",
   "metadata": {},
   "source": [
    "# 6. What are the five levels of logging?"
   ]
  },
  {
   "cell_type": "code",
   "execution_count": null,
   "id": "1efd57f6",
   "metadata": {},
   "outputs": [],
   "source": [
    "DEBUG, INFO, WARNING, ERROR and CRITICAL"
   ]
  },
  {
   "cell_type": "markdown",
   "id": "a3be9de5",
   "metadata": {},
   "source": [
    "# 7. What line of code would you add to your software to disable all logging messages?"
   ]
  },
  {
   "cell_type": "code",
   "execution_count": null,
   "id": "9798b66c",
   "metadata": {},
   "outputs": [],
   "source": [
    "logging.disable(logging.CRITICAL)"
   ]
  },
  {
   "cell_type": "markdown",
   "id": "e4db4c69",
   "metadata": {},
   "source": [
    "# 8.Why is using logging messages better than using print() to display the same message?"
   ]
  },
  {
   "cell_type": "code",
   "execution_count": null,
   "id": "6e0c211b",
   "metadata": {},
   "outputs": [],
   "source": [
    "The thing about log messages is that you're free to fill your program with as many as you like, and you can always disable\n",
    "them later by adding a single logging.disable(logging.CRITICAL) call.Unlike print(), the logging module makes it easy to\n",
    "switch between showing and hiding log messages"
   ]
  },
  {
   "cell_type": "markdown",
   "id": "99e42e72",
   "metadata": {},
   "source": [
    "# 9. What are the differences between the Step Over, Step In, and Step Out buttons in the debugger?"
   ]
  },
  {
   "cell_type": "code",
   "execution_count": null,
   "id": "cbaac372",
   "metadata": {},
   "outputs": [],
   "source": [
    "STEP In will cause the debugger to execute the next line of code and then pause again. \n",
    "If the next line of code is a function call, the debugger will \"step into\" that function and jump to the first line of code of that function.\n",
    "\n",
    "STEP OVER will execute the next line of code, similar to the STEP button. \n",
    "However, if the next line of code is a function call, the OVER button will \"step over\" the code in the function.\n",
    "\n",
    "STEP OUT will cause the debugger to execute lines of code at full speed until it returns from the current function."
   ]
  },
  {
   "cell_type": "markdown",
   "id": "2084581c",
   "metadata": {},
   "source": [
    "# 10.After you click Continue, when will the debugger stop ?"
   ]
  },
  {
   "cell_type": "code",
   "execution_count": null,
   "id": "9657319a",
   "metadata": {},
   "outputs": [],
   "source": [
    "Clicking the GO button will cause the program to execute normally until it terminates or reaches a breakpoint"
   ]
  },
  {
   "cell_type": "markdown",
   "id": "02f00b3f",
   "metadata": {},
   "source": [
    "# 11. What is the concept of a breakpoint?"
   ]
  },
  {
   "cell_type": "code",
   "execution_count": null,
   "id": "1a27c88d",
   "metadata": {},
   "outputs": [],
   "source": [
    "A breakpoint can be set on a specific line of code and forces the debugger to pause whenever the program execution reaches that line."
   ]
  },
  {
   "cell_type": "code",
   "execution_count": null,
   "id": "da5b0243",
   "metadata": {},
   "outputs": [],
   "source": []
  }
 ],
 "metadata": {
  "kernelspec": {
   "display_name": "Python 3 (ipykernel)",
   "language": "python",
   "name": "python3"
  },
  "language_info": {
   "codemirror_mode": {
    "name": "ipython",
    "version": 3
   },
   "file_extension": ".py",
   "mimetype": "text/x-python",
   "name": "python",
   "nbconvert_exporter": "python",
   "pygments_lexer": "ipython3",
   "version": "3.9.7"
  }
 },
 "nbformat": 4,
 "nbformat_minor": 5
}
