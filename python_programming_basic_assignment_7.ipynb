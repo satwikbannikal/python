{
 "cells": [
  {
   "cell_type": "markdown",
   "id": "08a08ca4",
   "metadata": {},
   "source": [
    "# 1.\tWrite a Python Program to find sum of array?"
   ]
  },
  {
   "cell_type": "code",
   "execution_count": 1,
   "id": "49a3331b",
   "metadata": {},
   "outputs": [
    {
     "name": "stdout",
     "output_type": "stream",
     "text": [
      "Sum of the array is  231\n"
     ]
    }
   ],
   "source": [
    "# sum function\n",
    "def sum_(arr,n):\n",
    "   # using built-in function\n",
    "   return(sum(arr))\n",
    "# main\n",
    "arr = [11,22,33,44,55,66]\n",
    "# length\n",
    "n = len(arr)\n",
    "ans = sum_(arr,n)\n",
    "# display sum\n",
    "print(\"Sum of the array is \",ans)"
   ]
  },
  {
   "cell_type": "markdown",
   "id": "1537af43",
   "metadata": {},
   "source": [
    "# 2.\tWrite a Python Program to find largest element in an array?"
   ]
  },
  {
   "cell_type": "code",
   "execution_count": 2,
   "id": "0a3b328f",
   "metadata": {},
   "outputs": [
    {
     "name": "stdout",
     "output_type": "stream",
     "text": [
      "Largest element given in array is 67\n"
     ]
    }
   ],
   "source": [
    "# largest function\n",
    "def largest(arr,n):\n",
    "   #maximum element\n",
    "   max = arr[0]\n",
    "   # traverse the whole loop\n",
    "   for i in range(1, n):\n",
    "      if arr[i] > max:\n",
    "         max = arr[i]\n",
    "   return max\n",
    "# Driver Code\n",
    "arr = [23,1,32,67,2,34,12]\n",
    "n = len(arr)\n",
    "Ans = largest(arr,n)\n",
    "print (\"Largest element given in array is\",Ans)"
   ]
  },
  {
   "cell_type": "markdown",
   "id": "1d56fa7f",
   "metadata": {},
   "source": [
    "# 3.\tWrite a Python Program for array rotation?"
   ]
  },
  {
   "cell_type": "code",
   "execution_count": 4,
   "id": "b3b7790c",
   "metadata": {},
   "outputs": [
    {
     "name": "stdout",
     "output_type": "stream",
     "text": [
      "Enter how many rotations2\n",
      "[3, 4, 5, 6, 7, 1, 2]\n"
     ]
    }
   ],
   "source": [
    "def rotate(L,d,n):\n",
    "    k=L.index(d)\n",
    "    new_lis=[]\n",
    "    new_lis=L[k+1:]+L[0:k+1]\n",
    "    return new_lis\n",
    "   \n",
    "d = int(input(\"Enter how many rotations\"))\n",
    "n = 7\n",
    "print(rotate([1,2,3,4,5,6,7],d,n))"
   ]
  },
  {
   "cell_type": "markdown",
   "id": "0afa7639",
   "metadata": {},
   "source": [
    "# 4.\tWrite a Python Program to Split the array and add the first part to the end?"
   ]
  },
  {
   "cell_type": "code",
   "execution_count": 5,
   "id": "e5bd8f01",
   "metadata": {},
   "outputs": [
    {
     "name": "stdout",
     "output_type": "stream",
     "text": [
      "15 16 50 36 15 40 "
     ]
    }
   ],
   "source": [
    "def SplitArray(arr, n, k):\n",
    "    for i in range(0, k):\n",
    "        x = arr[0]\n",
    "        for j in range(0, n-1):\n",
    "            arr[j] = arr[j + 1]\n",
    "\n",
    "        arr[n-1] = x\n",
    "arr = [15, 40, 15, 16, 50, 36]\n",
    "n = len(arr)\n",
    "position = 2\n",
    "SplitArray(arr, n, position)\n",
    "for i in range(0, n):\n",
    "    print(arr[i], end = ' ')"
   ]
  },
  {
   "cell_type": "markdown",
   "id": "ba48eee4",
   "metadata": {},
   "source": [
    "# 5.\tWrite a Python Program to check if given array is Monotonic?"
   ]
  },
  {
   "cell_type": "code",
   "execution_count": 8,
   "id": "bbe2ff03",
   "metadata": {},
   "outputs": [
    {
     "name": "stdout",
     "output_type": "stream",
     "text": [
      "True\n"
     ]
    }
   ],
   "source": [
    "def isMonotonic(A):\n",
    "   return (all(A[i] <= A[i + 1] for i in range(len(A) - 1)) or\n",
    "      all(A[i] >= A[i + 1] for i in range(len(A) - 1)))\n",
    "# main\n",
    "A = [1,2,3,4,7,8]\n",
    "print(isMonotonic(A))"
   ]
  },
  {
   "cell_type": "code",
   "execution_count": null,
   "id": "d17bfb08",
   "metadata": {},
   "outputs": [],
   "source": []
  }
 ],
 "metadata": {
  "kernelspec": {
   "display_name": "Python 3 (ipykernel)",
   "language": "python",
   "name": "python3"
  },
  "language_info": {
   "codemirror_mode": {
    "name": "ipython",
    "version": 3
   },
   "file_extension": ".py",
   "mimetype": "text/x-python",
   "name": "python",
   "nbconvert_exporter": "python",
   "pygments_lexer": "ipython3",
   "version": "3.9.7"
  }
 },
 "nbformat": 4,
 "nbformat_minor": 5
}
